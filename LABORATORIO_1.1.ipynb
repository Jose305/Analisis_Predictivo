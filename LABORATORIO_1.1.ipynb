{
 "cells": [
  {
   "cell_type": "markdown",
   "id": "6508a03d",
   "metadata": {},
   "source": [
    "# LABORATORIO 1.1 - ANALISIS PREDICTIVO"
   ]
  },
  {
   "cell_type": "markdown",
   "id": "632b1bda",
   "metadata": {},
   "source": [
    "### Integrantes: Ruiz Jose - Parraga Maria Jose - Borja Leonardo"
   ]
  },
  {
   "cell_type": "code",
   "execution_count": null,
   "id": "bd4dae4a",
   "metadata": {},
   "outputs": [],
   "source": []
  }
 ],
 "metadata": {
  "kernelspec": {
   "display_name": "Python 3 (ipykernel)",
   "language": "python",
   "name": "python3"
  },
  "language_info": {
   "codemirror_mode": {
    "name": "ipython",
    "version": 3
   },
   "file_extension": ".py",
   "mimetype": "text/x-python",
   "name": "python",
   "nbconvert_exporter": "python",
   "pygments_lexer": "ipython3",
   "version": "3.9.12"
  }
 },
 "nbformat": 4,
 "nbformat_minor": 5
}
