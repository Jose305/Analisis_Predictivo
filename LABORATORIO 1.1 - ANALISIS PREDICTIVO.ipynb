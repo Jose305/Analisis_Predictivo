{
 "cells": [
  {
   "cell_type": "markdown",
   "id": "b537ef3e",
   "metadata": {},
   "source": [
    "## Integrantes: Ruiz Jose - Parraga María José - Borja Leonardo\n"
   ]
  },
  {
   "cell_type": "markdown",
   "id": "793456e9",
   "metadata": {},
   "source": [
    "### Importar librerias\n"
   ]
  },
  {
   "cell_type": "code",
   "execution_count": 1,
   "id": "8f8eacc9",
   "metadata": {},
   "outputs": [],
   "source": [
    "# Tratamiento de datos\n",
    "# ==============================================================================\n",
    "import numpy as np\n",
    "import pandas as pd\n",
    "from tabulate import tabulate\n",
    "\n",
    "# Gráficos\n",
    "# ==============================================================================\n",
    "import matplotlib.pyplot as plt\n",
    "from matplotlib import style\n",
    "import matplotlib.ticker as ticker\n",
    "import seaborn as sns\n",
    "\n",
    "# Preprocesado y modelado\n",
    "# ==============================================================================\n",
    "from sklearn.model_selection import train_test_split\n",
    "from sklearn.model_selection import GridSearchCV\n",
    "from sklearn.model_selection import RepeatedKFold\n",
    "from sklearn.neighbors import KNeighborsClassifier\n",
    "from sklearn.datasets import make_blobs\n",
    "from sklearn.metrics import euclidean_distances\n",
    "from sklearn.neighbors import KNeighborsClassifier\n",
    "from sklearn.ensemble import RandomForestClassifier\n",
    "from sklearn.linear_model import Ridge\n",
    "\n",
    "from skopt.space import Real, Integer\n",
    "from skopt.utils import use_named_args\n",
    "from skopt import gp_minimize\n",
    "from skopt.plots import plot_convergence\n",
    "\n",
    "# Varios\n",
    "# ==============================================================================\n",
    "import multiprocessing\n",
    "import random\n",
    "from itertools import product\n",
    "from fitter import Fitter, get_common_distributions\n",
    "\n",
    "# Configuración matplotlib\n",
    "# ==============================================================================\n",
    "plt.rcParams['image.cmap'] = \"bwr\"\n",
    "#plt.rcParams['figure.dpi'] = \"100\"\n",
    "plt.rcParams['savefig.bbox'] = \"tight\"\n",
    "style.use('ggplot') or plt.style.use('ggplot')\n",
    "\n",
    "# Configuración warnings\n",
    "# ==============================================================================\n",
    "import warnings\n",
    "warnings.filterwarnings('ignore')"
   ]
  },
  {
   "cell_type": "markdown",
   "id": "ddd9031c",
   "metadata": {},
   "source": [
    "### Descripción del dataset (DATOS)"
   ]
  },
  {
   "cell_type": "markdown",
   "id": "d049fdb7",
   "metadata": {},
   "source": [
    "#### VARIABLES DE ENTRADA\n",
    "\n",
    "**age:** edad del beneficiario principal\n",
    "\n",
    "**sex:** contratista de seguros género, femenino, masculino\n",
    "\n",
    "**bmi:** Índice de masa corporal, que proporciona una comprensión del cuerpo, pesos que son relativamente altos o bajos en relación con la altura, \n",
    "\n",
    "**objetive:** índice objetivo de peso corporal (kg / m ^ 2) utilizando la relación entre altura y peso, idealmente 18,5 a 24,9\n",
    "\n",
    "**children:** Número de niños cubiertos por el seguro de salud / Número de dependientes\n",
    "\n",
    "**smoker:** fumar\n",
    "\n",
    "**region:** el área residencial del beneficiario en los EE. UU., noreste, sureste, suroeste, noroeste.\n",
    "\n",
    "**charges:** costos médicos individuales facturados por el seguro de salud"
   ]
  },
  {
   "cell_type": "markdown",
   "id": "688a78a1",
   "metadata": {},
   "source": [
    "#### CARGAR DATOS DEL DATASET Y RENOMBRAMIENTO DE LAS VARIABLES"
   ]
  },
  {
   "cell_type": "code",
   "execution_count": 14,
   "id": "72bd6d4d",
   "metadata": {},
   "outputs": [],
   "source": [
    "#datos cargados = archivo tipo pandas\n",
    "datos = pd.read_csv('Medical.csv',  sep = \",\" )  \n",
    "\n",
    "# Cambiar el nombre de las columnas para mostrar más \n",
    "datos.columns=[ \"edad\",\"sexo\" ,\"masa corporal\" ,\"niños\", \n",
    "                 \"fumadores\",\"region\", \"cargos\"]\n"
   ]
  },
  {
   "cell_type": "markdown",
   "id": "474a336f",
   "metadata": {},
   "source": [
    "### ANÁLISIS EXPLOTARIO"
   ]
  },
  {
   "cell_type": "code",
   "execution_count": 17,
   "id": "9dc66534",
   "metadata": {},
   "outputs": [
    {
     "data": {
      "text/html": [
       "<div>\n",
       "<style scoped>\n",
       "    .dataframe tbody tr th:only-of-type {\n",
       "        vertical-align: middle;\n",
       "    }\n",
       "\n",
       "    .dataframe tbody tr th {\n",
       "        vertical-align: top;\n",
       "    }\n",
       "\n",
       "    .dataframe thead th {\n",
       "        text-align: right;\n",
       "    }\n",
       "</style>\n",
       "<table border=\"1\" class=\"dataframe\">\n",
       "  <thead>\n",
       "    <tr style=\"text-align: right;\">\n",
       "      <th></th>\n",
       "      <th>edad</th>\n",
       "      <th>sexo</th>\n",
       "      <th>masa corporal</th>\n",
       "      <th>niños</th>\n",
       "      <th>fumadores</th>\n",
       "      <th>region</th>\n",
       "      <th>cargos</th>\n",
       "    </tr>\n",
       "  </thead>\n",
       "  <tbody>\n",
       "    <tr>\n",
       "      <th>0</th>\n",
       "      <td>19</td>\n",
       "      <td>female</td>\n",
       "      <td>27.900</td>\n",
       "      <td>0</td>\n",
       "      <td>yes</td>\n",
       "      <td>southwest</td>\n",
       "      <td>16884.92400</td>\n",
       "    </tr>\n",
       "    <tr>\n",
       "      <th>1</th>\n",
       "      <td>18</td>\n",
       "      <td>male</td>\n",
       "      <td>33.770</td>\n",
       "      <td>1</td>\n",
       "      <td>no</td>\n",
       "      <td>southeast</td>\n",
       "      <td>1725.55230</td>\n",
       "    </tr>\n",
       "    <tr>\n",
       "      <th>2</th>\n",
       "      <td>28</td>\n",
       "      <td>male</td>\n",
       "      <td>33.000</td>\n",
       "      <td>3</td>\n",
       "      <td>no</td>\n",
       "      <td>southeast</td>\n",
       "      <td>4449.46200</td>\n",
       "    </tr>\n",
       "    <tr>\n",
       "      <th>3</th>\n",
       "      <td>33</td>\n",
       "      <td>male</td>\n",
       "      <td>22.705</td>\n",
       "      <td>0</td>\n",
       "      <td>no</td>\n",
       "      <td>northwest</td>\n",
       "      <td>21984.47061</td>\n",
       "    </tr>\n",
       "    <tr>\n",
       "      <th>4</th>\n",
       "      <td>32</td>\n",
       "      <td>male</td>\n",
       "      <td>28.880</td>\n",
       "      <td>0</td>\n",
       "      <td>no</td>\n",
       "      <td>northwest</td>\n",
       "      <td>3866.85520</td>\n",
       "    </tr>\n",
       "    <tr>\n",
       "      <th>5</th>\n",
       "      <td>31</td>\n",
       "      <td>female</td>\n",
       "      <td>25.740</td>\n",
       "      <td>0</td>\n",
       "      <td>no</td>\n",
       "      <td>southeast</td>\n",
       "      <td>3756.62160</td>\n",
       "    </tr>\n",
       "    <tr>\n",
       "      <th>6</th>\n",
       "      <td>46</td>\n",
       "      <td>female</td>\n",
       "      <td>33.440</td>\n",
       "      <td>1</td>\n",
       "      <td>no</td>\n",
       "      <td>southeast</td>\n",
       "      <td>8240.58960</td>\n",
       "    </tr>\n",
       "    <tr>\n",
       "      <th>7</th>\n",
       "      <td>37</td>\n",
       "      <td>female</td>\n",
       "      <td>27.740</td>\n",
       "      <td>3</td>\n",
       "      <td>no</td>\n",
       "      <td>northwest</td>\n",
       "      <td>7281.50560</td>\n",
       "    </tr>\n",
       "    <tr>\n",
       "      <th>8</th>\n",
       "      <td>37</td>\n",
       "      <td>male</td>\n",
       "      <td>29.830</td>\n",
       "      <td>2</td>\n",
       "      <td>no</td>\n",
       "      <td>northeast</td>\n",
       "      <td>6406.41070</td>\n",
       "    </tr>\n",
       "    <tr>\n",
       "      <th>9</th>\n",
       "      <td>60</td>\n",
       "      <td>female</td>\n",
       "      <td>25.840</td>\n",
       "      <td>0</td>\n",
       "      <td>no</td>\n",
       "      <td>northwest</td>\n",
       "      <td>28923.13692</td>\n",
       "    </tr>\n",
       "  </tbody>\n",
       "</table>\n",
       "</div>"
      ],
      "text/plain": [
       "   edad    sexo  masa corporal  niños fumadores     region       cargos\n",
       "0    19  female         27.900      0       yes  southwest  16884.92400\n",
       "1    18    male         33.770      1        no  southeast   1725.55230\n",
       "2    28    male         33.000      3        no  southeast   4449.46200\n",
       "3    33    male         22.705      0        no  northwest  21984.47061\n",
       "4    32    male         28.880      0        no  northwest   3866.85520\n",
       "5    31  female         25.740      0        no  southeast   3756.62160\n",
       "6    46  female         33.440      1        no  southeast   8240.58960\n",
       "7    37  female         27.740      3        no  northwest   7281.50560\n",
       "8    37    male         29.830      2        no  northeast   6406.41070\n",
       "9    60  female         25.840      0        no  northwest  28923.13692"
      ]
     },
     "execution_count": 17,
     "metadata": {},
     "output_type": "execute_result"
    }
   ],
   "source": [
    "#mostrar los 10 primeros registros\n",
    "datos.head(10)"
   ]
  },
  {
   "cell_type": "markdown",
   "id": "ec4c04c8",
   "metadata": {},
   "source": [
    "#### Tipo de cada columna\n"
   ]
  },
  {
   "cell_type": "code",
   "execution_count": 18,
   "id": "3f0bb698",
   "metadata": {},
   "outputs": [
    {
     "name": "stdout",
     "output_type": "stream",
     "text": [
      "<class 'pandas.core.frame.DataFrame'>\n",
      "RangeIndex: 1338 entries, 0 to 1337\n",
      "Data columns (total 7 columns):\n",
      " #   Column         Non-Null Count  Dtype  \n",
      "---  ------         --------------  -----  \n",
      " 0   edad           1338 non-null   int64  \n",
      " 1   sexo           1338 non-null   object \n",
      " 2   masa corporal  1338 non-null   float64\n",
      " 3   niños          1338 non-null   int64  \n",
      " 4   fumadores      1338 non-null   object \n",
      " 5   region         1338 non-null   object \n",
      " 6   cargos         1338 non-null   float64\n",
      "dtypes: float64(2), int64(2), object(3)\n",
      "memory usage: 73.3+ KB\n"
     ]
    }
   ],
   "source": [
    "#Mostrar los tipos de datos\n",
    "datos.info()"
   ]
  },
  {
   "cell_type": "markdown",
   "id": "677e7681",
   "metadata": {},
   "source": [
    "#### Division del dataset y verificación de datos nulos"
   ]
  },
  {
   "cell_type": "code",
   "execution_count": 19,
   "id": "29ac9d40",
   "metadata": {},
   "outputs": [
    {
     "data": {
      "text/plain": [
       "(1338, 7)"
      ]
     },
     "execution_count": 19,
     "metadata": {},
     "output_type": "execute_result"
    }
   ],
   "source": [
    "datos.shape"
   ]
  },
  {
   "cell_type": "code",
   "execution_count": 20,
   "id": "a45ebcc9",
   "metadata": {},
   "outputs": [
    {
     "data": {
      "text/plain": [
       "edad             0\n",
       "sexo             0\n",
       "masa corporal    0\n",
       "niños            0\n",
       "fumadores        0\n",
       "region           0\n",
       "cargos           0\n",
       "dtype: int64"
      ]
     },
     "execution_count": 20,
     "metadata": {},
     "output_type": "execute_result"
    }
   ],
   "source": [
    "# Número de datos ausentes por variable\n",
    "datos.isna().sum().sort_values()"
   ]
  },
  {
   "cell_type": "code",
   "execution_count": null,
   "id": "36129512",
   "metadata": {},
   "outputs": [],
   "source": []
  }
 ],
 "metadata": {
  "kernelspec": {
   "display_name": "Python 3 (ipykernel)",
   "language": "python",
   "name": "python3"
  },
  "language_info": {
   "codemirror_mode": {
    "name": "ipython",
    "version": 3
   },
   "file_extension": ".py",
   "mimetype": "text/x-python",
   "name": "python",
   "nbconvert_exporter": "python",
   "pygments_lexer": "ipython3",
   "version": "3.9.12"
  }
 },
 "nbformat": 4,
 "nbformat_minor": 5
}
